{
 "cells": [
  {
   "cell_type": "code",
   "execution_count": 18,
   "metadata": {
    "collapsed": true
   },
   "outputs": [],
   "source": [
    "from lxml.html import parse \n",
    "from urllib2 import urlopen\n",
    "import pandas\n",
    "import requests\n",
    "\n",
    "from BeautifulSoup import BeautifulSoup"
   ]
  },
  {
   "cell_type": "code",
   "execution_count": 56,
   "metadata": {
    "collapsed": false
   },
   "outputs": [],
   "source": [
    "base_url = 'http://www.alexa.com/topsites/global;{0}'\n",
    "# page = parse(urlopen(base_url))"
   ]
  },
  {
   "cell_type": "code",
   "execution_count": 67,
   "metadata": {
    "collapsed": false
   },
   "outputs": [],
   "source": [
    "li_list = []\n",
    "for page_no in xrange(20):\n",
    "    # page_no = 0\n",
    "    response = requests.get(base_url.format(page_no))\n",
    "    html = response.content\n",
    "    parsed_html = BeautifulSoup(html)\n",
    "    lis = parsed_html.findAll('li',{'class':'site-listing'})\n",
    "    for li in lis:\n",
    "        try:\n",
    "            li_list.append(li.find('a').text)\n",
    "        except 'KeyError':\n",
    "            print li"
   ]
  },
  {
   "cell_type": "code",
   "execution_count": 68,
   "metadata": {
    "collapsed": false
   },
   "outputs": [
    {
     "data": {
      "text/plain": [
       "500"
      ]
     },
     "execution_count": 68,
     "metadata": {},
     "output_type": "execute_result"
    }
   ],
   "source": [
    "len(li_list)"
   ]
  },
  {
   "cell_type": "code",
   "execution_count": 72,
   "metadata": {
    "collapsed": false
   },
   "outputs": [],
   "source": [
    "with open('/home/motamedi/Dropbox/workspace/web_perf/top-500.csv', 'wb') as bw:\n",
    "    for li in li_list:\n",
    "        bw.write('%s\\n' % li.lower())"
   ]
  },
  {
   "cell_type": "code",
   "execution_count": null,
   "metadata": {
    "collapsed": false
   },
   "outputs": [],
   "source": []
  }
 ],
 "metadata": {
  "kernelspec": {
   "display_name": "Python 2",
   "language": "python",
   "name": "python2"
  },
  "language_info": {
   "codemirror_mode": {
    "name": "ipython",
    "version": 2
   },
   "file_extension": ".py",
   "mimetype": "text/x-python",
   "name": "python",
   "nbconvert_exporter": "python",
   "pygments_lexer": "ipython2",
   "version": "2.7.11+"
  }
 },
 "nbformat": 4,
 "nbformat_minor": 0
}
